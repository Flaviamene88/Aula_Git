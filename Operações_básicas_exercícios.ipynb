{
  "nbformat": 4,
  "nbformat_minor": 0,
  "metadata": {
    "colab": {
      "name": "Operações básicas - exercícios",
      "provenance": [],
      "include_colab_link": true
    },
    "kernelspec": {
      "name": "python3",
      "display_name": "Python 3"
    },
    "language_info": {
      "name": "python"
    }
  },
  "cells": [
    {
      "cell_type": "markdown",
      "metadata": {
        "id": "view-in-github",
        "colab_type": "text"
      },
      "source": [
        "<a href=\"https://colab.research.google.com/github/Flaviamene88/Aula_Git/blob/main/Opera%C3%A7%C3%B5es_b%C3%A1sicas_exerc%C3%ADcios.ipynb\" target=\"_parent\"><img src=\"https://colab.research.google.com/assets/colab-badge.svg\" alt=\"Open In Colab\"/></a>"
      ]
    },
    {
      "cell_type": "markdown",
      "metadata": {
        "id": "CmIi4oett0d-"
      },
      "source": [
        "# Vamos praticar um pouco?"
      ]
    },
    {
      "cell_type": "code",
      "metadata": {
        "id": "nk6v56wryQBQ"
      },
      "source": [
        "#@title  { display-mode: \"form\" }\n",
        "10+32\n",
        "50-8\n",
        "8/2\n",
        "5*5"
      ],
      "execution_count": null,
      "outputs": []
    },
    {
      "cell_type": "markdown",
      "metadata": {
        "id": "-Fn67UfEt5Zk"
      },
      "source": [
        "### Faça algumas operações matemáricas básicas com os operadores `+ - / *`\n"
      ]
    },
    {
      "cell_type": "markdown",
      "metadata": {
        "id": "RI8pLcEWyhJv"
      },
      "source": [
        "### Eleve o número 8 ao quadrado com o operador `**`\n"
      ]
    },
    {
      "cell_type": "code",
      "metadata": {
        "colab": {
          "base_uri": "https://localhost:8080/"
        },
        "id": "S105JAtsAHZE",
        "outputId": "ace50eaa-d8aa-4414-bb8e-f434c9056975"
      },
      "source": [
        "a=25\n",
        "b=5\n",
        "print(a+b)"
      ],
      "execution_count": 2,
      "outputs": [
        {
          "output_type": "stream",
          "name": "stdout",
          "text": [
            "30\n"
          ]
        }
      ]
    },
    {
      "cell_type": "code",
      "metadata": {
        "id": "xmSc8wAZyx_E"
      },
      "source": [
        "#@title  { display-mode: \"form\" }\n",
        "8**2"
      ],
      "execution_count": null,
      "outputs": []
    },
    {
      "cell_type": "markdown",
      "metadata": {
        "id": "fmF-XasWzXXe"
      },
      "source": [
        "### Tire a raíz quadrada do número 64 com o operador `**`"
      ]
    },
    {
      "cell_type": "code",
      "metadata": {
        "id": "i5wnMB6fyw1V",
        "colab": {
          "base_uri": "https://localhost:8080/"
        },
        "outputId": "7ed41b2e-dd81-415c-cc7b-45f915b74a93"
      },
      "source": [
        "print(a-b)"
      ],
      "execution_count": 3,
      "outputs": [
        {
          "output_type": "stream",
          "name": "stdout",
          "text": [
            "20\n"
          ]
        }
      ]
    },
    {
      "cell_type": "code",
      "metadata": {
        "id": "peT5kMUjzqFB"
      },
      "source": [
        "#@title  { display-mode: \"form\" }\n",
        "64**0.5"
      ],
      "execution_count": null,
      "outputs": []
    },
    {
      "cell_type": "markdown",
      "metadata": {
        "id": "4b0GONcr11rk"
      },
      "source": [
        "### Mostre somente a parte inteira da divisão: 20 dividido por 3"
      ]
    },
    {
      "cell_type": "code",
      "metadata": {
        "id": "-9wc7Hn4zpVe",
        "colab": {
          "base_uri": "https://localhost:8080/"
        },
        "outputId": "ebbd8d57-ed1d-4774-86c0-b53188654b97"
      },
      "source": [
        "print(a*b)"
      ],
      "execution_count": 4,
      "outputs": [
        {
          "output_type": "stream",
          "name": "stdout",
          "text": [
            "125\n"
          ]
        }
      ]
    },
    {
      "cell_type": "code",
      "metadata": {
        "id": "t1tb3NBf12Mq",
        "colab": {
          "base_uri": "https://localhost:8080/"
        },
        "outputId": "abf72de4-ef66-4dfe-cbe8-21772eaec933"
      },
      "source": [
        "print(a/b)"
      ],
      "execution_count": 5,
      "outputs": [
        {
          "output_type": "stream",
          "name": "stdout",
          "text": [
            "5.0\n"
          ]
        }
      ]
    },
    {
      "cell_type": "code",
      "metadata": {
        "id": "tM_j4fHy12GE"
      },
      "source": [
        "#@title  { display-mode: \"form\" }\n",
        "20//3"
      ],
      "execution_count": null,
      "outputs": []
    },
    {
      "cell_type": "markdown",
      "metadata": {
        "id": "tvxuQcs02dmM"
      },
      "source": [
        "Mostre o resto da divisão: 20 dividido por 3"
      ]
    },
    {
      "cell_type": "code",
      "metadata": {
        "id": "HuOQVHAE2eGw",
        "colab": {
          "base_uri": "https://localhost:8080/"
        },
        "outputId": "41b204a7-7d43-4482-e3e1-43c7e3a85836"
      },
      "source": [
        "print(20 % 3)\n",
        "\n"
      ],
      "execution_count": 6,
      "outputs": [
        {
          "output_type": "stream",
          "name": "stdout",
          "text": [
            "2\n"
          ]
        }
      ]
    },
    {
      "cell_type": "code",
      "metadata": {
        "id": "L-aBb8162ejs"
      },
      "source": [
        "#@title  { display-mode: \"form\" }\n",
        "20%3"
      ],
      "execution_count": null,
      "outputs": []
    },
    {
      "cell_type": "markdown",
      "metadata": {
        "id": "rkflBYYxz4QK"
      },
      "source": [
        "### Guarde na variável `nome` o seu nome e na variável `idade` a sua idade"
      ]
    },
    {
      "cell_type": "code",
      "metadata": {
        "id": "i5q24RZx0TzV"
      },
      "source": [
        "#@title  { display-mode: \"form\" }\n",
        "nome = \"Rogério\"\n",
        "idade = 35"
      ],
      "execution_count": null,
      "outputs": []
    },
    {
      "cell_type": "markdown",
      "metadata": {
        "id": "0PcF8qAU0e65"
      },
      "source": [
        "### Verifique e imprima qual o tipo das variáveis `nome` e `idade` com a função `type()`"
      ]
    },
    {
      "cell_type": "code",
      "metadata": {
        "id": "6BJmkQIv0Ska",
        "colab": {
          "base_uri": "https://localhost:8080/"
        },
        "outputId": "b56a7231-9c8b-47d8-a823-b958f7cbc565"
      },
      "source": [
        "nome=\"Flávia\"\n",
        "idade=33\n",
        "print(nome)"
      ],
      "execution_count": 7,
      "outputs": [
        {
          "output_type": "stream",
          "name": "stdout",
          "text": [
            "Flávia\n"
          ]
        }
      ]
    },
    {
      "cell_type": "code",
      "metadata": {
        "id": "_CtnOC7E0l95",
        "colab": {
          "base_uri": "https://localhost:8080/"
        },
        "outputId": "a5423bb4-8fc2-4801-e6e1-fdf9c06335d6"
      },
      "source": [
        "print(idade)"
      ],
      "execution_count": 8,
      "outputs": [
        {
          "output_type": "stream",
          "name": "stdout",
          "text": [
            "33\n"
          ]
        }
      ]
    },
    {
      "cell_type": "code",
      "metadata": {
        "id": "aYlRFvML0mn7"
      },
      "source": [
        "#@title  { display-mode: \"form\" }\n",
        "print(type(nome))\n",
        "print(type(idade))"
      ],
      "execution_count": null,
      "outputs": []
    },
    {
      "cell_type": "markdown",
      "metadata": {
        "id": "67IMNSJN04VO"
      },
      "source": [
        "### Lembra do teorema de Pitágoras?\n",
        "<img src=\"https://upload.wikimedia.org/wikipedia/commons/thumb/6/6f/Rtriangle.svg/1024px-Rtriangle.svg.png\" width=\"350\">\n",
        "\n",
        "Basicamente, lembre que podemos descobrir o valor de um dos lados de um triângulo retângo com a seguinte fórmula `c²=a²+b²`\n",
        "\n",
        "Se o lado **a** tem **3cm** e o lado **b** tem **4cm**, quantos cm tem o lado **c**?"
      ]
    },
    {
      "cell_type": "code",
      "metadata": {
        "id": "V2Yj8PuD3TAI",
        "colab": {
          "base_uri": "https://localhost:8080/"
        },
        "outputId": "f9c1092a-906b-4eb9-9f9e-d915eab890d6"
      },
      "source": [
        "a=3\n",
        "b=4\n",
        "c=((a**2)+(b**2))\n",
        "print(c)"
      ],
      "execution_count": 9,
      "outputs": [
        {
          "output_type": "stream",
          "name": "stdout",
          "text": [
            "25\n"
          ]
        }
      ]
    },
    {
      "cell_type": "code",
      "metadata": {
        "id": "kAlrJ36M3UOs",
        "colab": {
          "base_uri": "https://localhost:8080/"
        },
        "outputId": "3d5a6a60-53cf-47db-9cbe-fd85abd661c9"
      },
      "source": [
        "#@title  { display-mode: \"form\" }\n",
        "a = 3\n",
        "b = 4\n",
        "c = (a**2+b**2)**0.5\n",
        "\n",
        "print(c)"
      ],
      "execution_count": 10,
      "outputs": [
        {
          "output_type": "stream",
          "name": "stdout",
          "text": [
            "5.0\n"
          ]
        }
      ]
    },
    {
      "cell_type": "markdown",
      "metadata": {
        "id": "JUsakOdv0sPL"
      },
      "source": [
        "### (Debugging) Encontre e corrija o erro do código abaixo"
      ]
    },
    {
      "cell_type": "code",
      "metadata": {
        "id": "5FyCddjT1FFx"
      },
      "source": [
        ""
      ],
      "execution_count": null,
      "outputs": []
    },
    {
      "cell_type": "code",
      "metadata": {
        "id": "x4kMoO-D00WC",
        "colab": {
          "base_uri": "https://localhost:8080/"
        },
        "outputId": "3ee66ea7-03b7-4268-b423-ff3be65f0b3b"
      },
      "source": [
        "a=3\n",
        "b=4\n",
        "c=((a**2+b**2)**0.5)\n",
        "print(c)"
      ],
      "execution_count": 11,
      "outputs": [
        {
          "output_type": "stream",
          "name": "stdout",
          "text": [
            "5.0\n"
          ]
        }
      ]
    }
  ]
}