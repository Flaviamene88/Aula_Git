{
  "nbformat": 4,
  "nbformat_minor": 0,
  "metadata": {
    "colab": {
      "name": "Desafio pré-DSC.ipynb - Flavia de Jesus Menezes de Paula",
      "provenance": [],
      "collapsed_sections": [],
      "include_colab_link": true
    },
    "kernelspec": {
      "name": "python3",
      "display_name": "Python 3"
    },
    "language_info": {
      "name": "python"
    }
  },
  "cells": [
    {
      "cell_type": "markdown",
      "metadata": {
        "id": "view-in-github",
        "colab_type": "text"
      },
      "source": [
        "<a href=\"https://colab.research.google.com/github/Flaviamene88/Aula_Git/blob/main/Desafio_pr%C3%A9_DSC_ipynb_Flavia_de_Jesus_Menezes_de_Paula.ipynb\" target=\"_parent\"><img src=\"https://colab.research.google.com/assets/colab-badge.svg\" alt=\"Open In Colab\"/></a>"
      ]
    },
    {
      "cell_type": "markdown",
      "metadata": {
        "id": "IOcNyA9zDLHA"
      },
      "source": [
        "# Desafio Mini-curso Python\n",
        "\n",
        "Olá! Que bom que você veio!<br>\n",
        "**INSTRUÇÕES**"
      ]
    },
    {
      "cell_type": "markdown",
      "metadata": {
        "id": "dLD5TIJ__Yk7"
      },
      "source": [
        "\n",
        "### 1) Considere que a aresta deste cubo tem 8cm. Calcule o volume total dessa peça. Guarde o resultado na variável `cubo`.\n",
        "\n",
        "![image](https://upload.wikimedia.org/wikipedia/commons/thumb/7/78/Hexahedron.jpg/280px-Hexahedron.jpg)\n",
        "\n",
        "\n",
        "Dica: Volume de um cubo é sua aresta elevada a terceira potência."
      ]
    },
    {
      "cell_type": "code",
      "metadata": {
        "id": "81gUfCDu7Dyi",
        "colab": {
          "base_uri": "https://localhost:8080/"
        },
        "outputId": "a5b1ea69-9ae0-4a16-a7ec-dbfc9434fc5e"
      },
      "source": [
        "cubo = 8**3\n",
        "print(cubo)"
      ],
      "execution_count": 1,
      "outputs": [
        {
          "output_type": "stream",
          "name": "stdout",
          "text": [
            "512\n"
          ]
        }
      ]
    },
    {
      "cell_type": "code",
      "metadata": {
        "id": "FyuFjeBj7FWt"
      },
      "source": [
        ""
      ],
      "execution_count": null,
      "outputs": []
    },
    {
      "cell_type": "markdown",
      "metadata": {
        "id": "7O42PL9xBiol"
      },
      "source": [
        "## Números primos\n",
        "Os Números Primos são números naturais maiores do que 1 que possuem somente dois divisores, ou seja, são divisíveis por 1 e por ele mesmo.\n",
        "\n",
        "**Rode a célula contento a lista de `numeros_primos` antes de continuar**\n",
        "\n",
        "### Faça os exercícios de **2** a **5** seguintes operações com a lista `numeros_primos`"
      ]
    },
    {
      "cell_type": "code",
      "metadata": {
        "id": "UOGds40b7LOV"
      },
      "source": [
        "#Rode essa célula\n",
        "numeros_primos = [2, 3, 5, 7, 11, 13, 17, 19, 23, 29, 31, 37, 41, 43, 47, 53, 59, 61, 67, 71, 73, 79, 83, 89, 97, 101, 103, 107, 109, 113, 127, 131, 137, 139, 149, 151, 157, 163, 167, 173, 179, 181, 191, 193, 197, 199, 211, 223, 227, 229, 233, 239, 241, 251, 257, 263, 269, 271, 277, 281, 283, 293, 307, 311, 313, 317, 331, 337, 347, 349, 353, 359, 367, 373, 379, 383, 389, 397, 401, 409, 419, 421, 431, 433, 439, 443, 449, 457, 461, 463, 467, 479, 487, 491, 499, 503, 509, 521, 523, 541, 547, 557, 563, 569, 571, 577, 587, 593, 599, 601, 607, 613, 617, 619, 631, 641, 643, 647, 653, 659, 661, 673, 677, 683, 691, 701, 709, 719, 727, 733, 739, 743, 751, 757, 761, 769, 773, 787, 797, 809, 811, 821, 823, 827, 829, 839, 853, 857, 859, 863, 877, 881, 883, 887, 907, 911, 919, 929, 937, 941, 947, 953, 967, 971, 977, 983, 991, 997]"
      ],
      "execution_count": 2,
      "outputs": []
    },
    {
      "cell_type": "markdown",
      "metadata": {
        "id": "xBl_sfdNhwrZ"
      },
      "source": [
        "### 2) Guarde na variável `quinto_elemento` o quinto elemento da lista `numeros_primos`"
      ]
    },
    {
      "cell_type": "code",
      "metadata": {
        "id": "MMLCzGEwCdhG",
        "colab": {
          "base_uri": "https://localhost:8080/"
        },
        "outputId": "3d88d9f6-2a89-4234-924b-c0daf6131f3a"
      },
      "source": [
        "numeros_primos[5]\n",
        "quinto_elemento = numeros_primos[5]\n",
        "print(quinto_elemento)\n"
      ],
      "execution_count": 11,
      "outputs": [
        {
          "output_type": "stream",
          "name": "stdout",
          "text": [
            "13\n"
          ]
        }
      ]
    },
    {
      "cell_type": "code",
      "metadata": {
        "id": "5TtZ9gDoFiJA"
      },
      "source": [
        ""
      ],
      "execution_count": null,
      "outputs": []
    },
    {
      "cell_type": "markdown",
      "metadata": {
        "id": "burC7-LpiBgV"
      },
      "source": [
        "### 3) Guarde na variável `10_primos` uma lista com os 10 primeiros numeros primos da lista `numeros_primos`"
      ]
    },
    {
      "cell_type": "code",
      "metadata": {
        "id": "OSuC_9MviGk9",
        "colab": {
          "base_uri": "https://localhost:8080/"
        },
        "outputId": "9ad9a722-6ae8-43dc-8081-6afce6e221cd"
      },
      "source": [
        "numeros_primos[:10]\n",
        "primos_10 = numeros_primos[:10]\n",
        "print(primos_10)\n",
        "\n"
      ],
      "execution_count": 22,
      "outputs": [
        {
          "output_type": "stream",
          "name": "stdout",
          "text": [
            "[2, 3, 5, 7, 11, 13, 17, 19, 23, 29]\n"
          ]
        }
      ]
    },
    {
      "cell_type": "code",
      "metadata": {
        "id": "f02XoEz-iGVI"
      },
      "source": [
        ""
      ],
      "execution_count": null,
      "outputs": []
    },
    {
      "cell_type": "markdown",
      "metadata": {
        "id": "aaGOemOliHmP"
      },
      "source": [
        "### 4) Guarde na variável `soma_primos` a soma total da lista `numeros_primos`"
      ]
    },
    {
      "cell_type": "code",
      "metadata": {
        "id": "RuoDemLQiUBF",
        "colab": {
          "base_uri": "https://localhost:8080/"
        },
        "outputId": "53385316-1593-49da-8854-a43c3c80235d"
      },
      "source": [
        "soma_primos = sum(numeros_primos)\n",
        "print(soma_primos)"
      ],
      "execution_count": 24,
      "outputs": [
        {
          "output_type": "stream",
          "name": "stdout",
          "text": [
            "76127\n"
          ]
        }
      ]
    },
    {
      "cell_type": "code",
      "metadata": {
        "id": "HpIslXZIiT3m"
      },
      "source": [
        ""
      ],
      "execution_count": null,
      "outputs": []
    },
    {
      "cell_type": "markdown",
      "metadata": {
        "id": "ydb57E7kiU7d"
      },
      "source": [
        "### 5) Guarde na variável `primos_dobro` uma nova lista que seja a lista `numeros_primos` com seus elementos multiplicados por 2 (Dica: utilize `list comprehension`)"
      ]
    },
    {
      "cell_type": "code",
      "metadata": {
        "id": "yrVh_lSDidlX",
        "colab": {
          "base_uri": "https://localhost:8080/"
        },
        "outputId": "8f53be90-619d-4618-ba08-cc5903374d78"
      },
      "source": [
        "primos_dobro = numeros_primos*2\n",
        "print(primos_dobro)"
      ],
      "execution_count": 25,
      "outputs": [
        {
          "output_type": "stream",
          "name": "stdout",
          "text": [
            "[2, 3, 5, 7, 11, 13, 17, 19, 23, 29, 31, 37, 41, 43, 47, 53, 59, 61, 67, 71, 73, 79, 83, 89, 97, 101, 103, 107, 109, 113, 127, 131, 137, 139, 149, 151, 157, 163, 167, 173, 179, 181, 191, 193, 197, 199, 211, 223, 227, 229, 233, 239, 241, 251, 257, 263, 269, 271, 277, 281, 283, 293, 307, 311, 313, 317, 331, 337, 347, 349, 353, 359, 367, 373, 379, 383, 389, 397, 401, 409, 419, 421, 431, 433, 439, 443, 449, 457, 461, 463, 467, 479, 487, 491, 499, 503, 509, 521, 523, 541, 547, 557, 563, 569, 571, 577, 587, 593, 599, 601, 607, 613, 617, 619, 631, 641, 643, 647, 653, 659, 661, 673, 677, 683, 691, 701, 709, 719, 727, 733, 739, 743, 751, 757, 761, 769, 773, 787, 797, 809, 811, 821, 823, 827, 829, 839, 853, 857, 859, 863, 877, 881, 883, 887, 907, 911, 919, 929, 937, 941, 947, 953, 967, 971, 977, 983, 991, 997, 2, 3, 5, 7, 11, 13, 17, 19, 23, 29, 31, 37, 41, 43, 47, 53, 59, 61, 67, 71, 73, 79, 83, 89, 97, 101, 103, 107, 109, 113, 127, 131, 137, 139, 149, 151, 157, 163, 167, 173, 179, 181, 191, 193, 197, 199, 211, 223, 227, 229, 233, 239, 241, 251, 257, 263, 269, 271, 277, 281, 283, 293, 307, 311, 313, 317, 331, 337, 347, 349, 353, 359, 367, 373, 379, 383, 389, 397, 401, 409, 419, 421, 431, 433, 439, 443, 449, 457, 461, 463, 467, 479, 487, 491, 499, 503, 509, 521, 523, 541, 547, 557, 563, 569, 571, 577, 587, 593, 599, 601, 607, 613, 617, 619, 631, 641, 643, 647, 653, 659, 661, 673, 677, 683, 691, 701, 709, 719, 727, 733, 739, 743, 751, 757, 761, 769, 773, 787, 797, 809, 811, 821, 823, 827, 829, 839, 853, 857, 859, 863, 877, 881, 883, 887, 907, 911, 919, 929, 937, 941, 947, 953, 967, 971, 977, 983, 991, 997]\n"
          ]
        }
      ]
    },
    {
      "cell_type": "code",
      "metadata": {
        "id": "QH8YXh1kidfT"
      },
      "source": [
        ""
      ],
      "execution_count": null,
      "outputs": []
    },
    {
      "cell_type": "markdown",
      "metadata": {
        "id": "FE5nHllAGpH-"
      },
      "source": [
        "### Dicionários\n",
        "\n",
        "A **Escala de Scoville** é usda para medir o grau de ardência das pimentas. Preparamos um dicionário com o nome da pimenta e sua respectiva ardência em unidades Scoville.\n",
        "\n",
        "**Rode a célula contento o dicionário de `pimentas` antes de continuar**\n",
        "\n",
        "### Faça os exercícios de **6** e **7** seguintes operações com o dicionário `pimentas`"
      ]
    },
    {
      "cell_type": "code",
      "metadata": {
        "id": "MkLSgv9bG-0z"
      },
      "source": [
        "#Rode essa célula\n",
        "pimentas = {\n",
        "    'Pimentão': 0,\n",
        "    'Pepperoncini': 300,\n",
        "    'Molho Tabasco Jalapenho': 700,\n",
        "    'Pimenta Anaheim': 750\t,\n",
        "    'Pimenta Poblano': 1250,\n",
        "    'Pimenta Rocotillo': 2000,\n",
        "    'Molho Tabasco': 3750,\n",
        "    'Pimenta Jalapeño': 5250,\n",
        "    'Wax Pepper': 7500,\n",
        "    'Molho Tabasco Habanero': 7500,\n",
        "    'Pimenta Dedo de Moça': 10000,\n",
        "    'Pimenta Serrano': 16500,\n",
        "    'Pimenta Malagueta': 75000,\n",
        "    'Jamaican Hot Pepper': 150000,\n",
        "    'Habanero Chili': 225000,\n",
        "    'Pimenta de Chili Scotch Bonnet': 225000,\n",
        "    'Habanero Chili Red Savina': 463500,\n",
        "    'Dorset Naga': 923000,\n",
        "    'Pimenta Naga Bhut Jolokia': 927500,\n",
        "    'Pimenta Infinity Chilli': 1000000,\n",
        "    'Pimenta Naga Viper': 1300000,\n",
        "    'Pimenta Trinidad Scorpion Butch T': 1604615,\n",
        "    'Vicnic-1313': 1820000,\n",
        "    'Carolina Reaper': 1884650\n",
        "}"
      ],
      "execution_count": 26,
      "outputs": []
    },
    {
      "cell_type": "markdown",
      "metadata": {
        "id": "oqRxRy-yiqGD"
      },
      "source": [
        "### 6) Guarde na variável `quente` o valor de ardência da pimenta `Carolina Reaper`"
      ]
    },
    {
      "cell_type": "code",
      "metadata": {
        "id": "9nmomkoOJ8WA",
        "colab": {
          "base_uri": "https://localhost:8080/"
        },
        "outputId": "d26926b8-a6fb-41b2-fd03-1e4ec77fede5"
      },
      "source": [
        "quente = pimentas['Carolina Reaper']\n",
        "print(quente)"
      ],
      "execution_count": 27,
      "outputs": [
        {
          "output_type": "stream",
          "name": "stdout",
          "text": [
            "1884650\n"
          ]
        }
      ]
    },
    {
      "cell_type": "code",
      "metadata": {
        "id": "ScBaySNiMQCu"
      },
      "source": [
        ""
      ],
      "execution_count": null,
      "outputs": []
    },
    {
      "cell_type": "markdown",
      "metadata": {
        "id": "99zhKnbMMQam"
      },
      "source": [
        "## Funções e condicionais\n",
        "\n",
        "O **IMC** (Indice de Massa Corporal) é um critério da Organização Mundial de Saúde para dar uma indicação sobre a condição de peso de uma pessoa adulta. A fórmula é IMC = peso / ( altura )²\n",
        "\n",
        "### 8) Construa uma função de nome `calcular_imc` que receba o peso e a altura de um adulto e mostre sua condição de acordo com a tabela abaixo.\n",
        "\n",
        "| IMC em adultos  | Condição       |\n",
        "|-----------------|----------------|\n",
        "| Abaixo de 18,5  | Abaixo do peso |\n",
        "| Entre 18,5 e 25 | Peso normal    |\n",
        "| Entre 25 e 30   | Acima do peso  |\n",
        "| Acima de 30     | obeso          |"
      ]
    },
    {
      "cell_type": "markdown",
      "metadata": {
        "id": "JNVzzAHnjHIN"
      },
      "source": [
        "### 7) Insira no dicionário `pimentas` este novo par: `'Pimenta Caiena': 40000`"
      ]
    },
    {
      "cell_type": "code",
      "metadata": {
        "id": "68YWNIS9jdue",
        "colab": {
          "base_uri": "https://localhost:8080/"
        },
        "outputId": "9d3ad5e1-80b9-48aa-dab3-60ff638cabd9"
      },
      "source": [
        "pimentas['Caiena'] = 40000\n",
        "print(pimentas)"
      ],
      "execution_count": 30,
      "outputs": [
        {
          "output_type": "stream",
          "name": "stdout",
          "text": [
            "{'Pimentão': 0, 'Pepperoncini': 300, 'Molho Tabasco Jalapenho': 700, 'Pimenta Anaheim': 750, 'Pimenta Poblano': 1250, 'Pimenta Rocotillo': 2000, 'Molho Tabasco': 3750, 'Pimenta Jalapeño': 5250, 'Wax Pepper': 7500, 'Molho Tabasco Habanero': 7500, 'Pimenta Dedo de Moça': 10000, 'Pimenta Serrano': 16500, 'Pimenta Malagueta': 75000, 'Jamaican Hot Pepper': 150000, 'Habanero Chili': 225000, 'Pimenta de Chili Scotch Bonnet': 225000, 'Habanero Chili Red Savina': 463500, 'Dorset Naga': 923000, 'Pimenta Naga Bhut Jolokia': 927500, 'Pimenta Infinity Chilli': 1000000, 'Pimenta Naga Viper': 1300000, 'Pimenta Trinidad Scorpion Butch T': 1604615, 'Vicnic-1313': 1820000, 'Carolina Reaper': 1884650, 'Caiena': 40000}\n"
          ]
        }
      ]
    },
    {
      "cell_type": "code",
      "metadata": {
        "id": "dXk93hfwjdoZ"
      },
      "source": [
        ""
      ],
      "execution_count": null,
      "outputs": []
    },
    {
      "cell_type": "markdown",
      "metadata": {
        "id": "UOg-3G-LNrnL"
      },
      "source": [
        "## Com base na sua função faça os seguintes exercícios:\n",
        "### 9) Guarde na variável `cond1` o IMC de uma pessoa que tenha 1,72 de altura e 80Kg de peso\n"
      ]
    },
    {
      "cell_type": "code",
      "metadata": {
        "id": "yeJ2_aTQOjYg",
        "colab": {
          "base_uri": "https://localhost:8080/"
        },
        "outputId": "88291b18-cc9d-4f91-8c81-2273bab4fa46"
      },
      "source": [
        "peso = 80\n",
        "altura = 1.72\n",
        "cond1 = peso/(altura*altura)\n",
        "print(cond1)\n"
      ],
      "execution_count": 35,
      "outputs": [
        {
          "output_type": "stream",
          "name": "stdout",
          "text": [
            "27.041644131963228\n"
          ]
        }
      ]
    },
    {
      "cell_type": "code",
      "metadata": {
        "id": "Pl4Hg7ujO7NN"
      },
      "source": [
        ""
      ],
      "execution_count": null,
      "outputs": []
    },
    {
      "cell_type": "markdown",
      "metadata": {
        "id": "Cfhepz8-joC9"
      },
      "source": [
        "### 10) Guarde na variável `cond2` o IMC de uma pessoa que tenha 2,1 de altura e 70Kg de peso\n"
      ]
    },
    {
      "cell_type": "code",
      "metadata": {
        "id": "peYbd5wTjsxm",
        "colab": {
          "base_uri": "https://localhost:8080/"
        },
        "outputId": "aa917cd2-0812-4e8b-9cd5-c11322e03b8a"
      },
      "source": [
        "cond2 = 70/(2.1*2.1)\n",
        "print(cond2)\n"
      ],
      "execution_count": 37,
      "outputs": [
        {
          "output_type": "stream",
          "name": "stdout",
          "text": [
            "15.873015873015872\n"
          ]
        }
      ]
    },
    {
      "cell_type": "code",
      "metadata": {
        "id": "fahrcDjTjsqw"
      },
      "source": [
        ""
      ],
      "execution_count": null,
      "outputs": []
    },
    {
      "cell_type": "markdown",
      "metadata": {
        "id": "6Si1vAiMjtQA"
      },
      "source": [
        "### 11) Guarde na variável `cond3` o IMC de uma pessoa que tenha 1,55 de altura e 80Kg de peso"
      ]
    },
    {
      "cell_type": "code",
      "metadata": {
        "id": "8FsO1eWCjwFk",
        "colab": {
          "base_uri": "https://localhost:8080/"
        },
        "outputId": "caf648e2-c680-4ed7-c04b-84842ddaa795"
      },
      "source": [
        "cond3 = 80/(1.55*1.55)\n",
        "print(cond3)"
      ],
      "execution_count": 38,
      "outputs": [
        {
          "output_type": "stream",
          "name": "stdout",
          "text": [
            "33.29864724245577\n"
          ]
        }
      ]
    },
    {
      "cell_type": "code",
      "metadata": {
        "id": "4DOsi3gtjv-v"
      },
      "source": [
        ""
      ],
      "execution_count": null,
      "outputs": []
    },
    {
      "cell_type": "markdown",
      "metadata": {
        "id": "EyNPc1qmRE6G"
      },
      "source": [
        "### Pandas\n",
        "#### Faça o download do `.csv` abaixo e faça a leitura dele no `pandas` guarde-a na variável `gorjetas`\n",
        "\n",
        "[Arquivo para download](https://drive.google.com/file/d/18f43p3FPmzRqN-I5S03U5pn6wdburrZQ/view?usp=sharing)\n",
        "\n",
        "Dica: Não se esqueça de importar a biblioteca pandas"
      ]
    },
    {
      "cell_type": "markdown",
      "metadata": {
        "id": "joE44hAnR-ij"
      },
      "source": [
        "### Faça os exercícios de **12** a **14** com o DataDrame `gorjetas`\n",
        "\n",
        "### 12) Guarde na variável `media_contas` o valor da média da colula **total**"
      ]
    },
    {
      "cell_type": "code",
      "metadata": {
        "id": "GDX38jIGSQAi",
        "colab": {
          "base_uri": "https://localhost:8080/"
        },
        "outputId": "88c1252c-6c03-448c-9091-8df5cda96184"
      },
      "source": [
        "import pandas\n",
        "gorjeta_df = pd.read_csv('./gorjeta.csv')\n",
        "print(gorjeta_df)\n",
        "media_contas = ((gorjeta_df['total']).mean())\n",
        "print(media_contas)\n",
        "\n",
        "\n",
        "\n"
      ],
      "execution_count": 66,
      "outputs": [
        {
          "output_type": "stream",
          "name": "stdout",
          "text": [
            "     total  gorjeta fumante  tamanho\n",
            "0    16.99     1.01      No        2\n",
            "1    10.34     1.66      No        3\n",
            "2    21.01     3.50      No        3\n",
            "3    23.68     3.31      No        2\n",
            "4    24.59     3.61      No        4\n",
            "..     ...      ...     ...      ...\n",
            "239  29.03     5.92      No        3\n",
            "240  27.18     2.00     Yes        2\n",
            "241  22.67     2.00     Yes        2\n",
            "242  17.82     1.75      No        2\n",
            "243  18.78     3.00      No        2\n",
            "\n",
            "[244 rows x 4 columns]\n",
            "19.785942622950824\n"
          ]
        }
      ]
    },
    {
      "cell_type": "code",
      "metadata": {
        "id": "P-RPwBIIS7BA"
      },
      "source": [
        ""
      ],
      "execution_count": null,
      "outputs": []
    },
    {
      "cell_type": "markdown",
      "metadata": {
        "id": "ZNW4kN0WkLSh"
      },
      "source": [
        "### 13) Guarde na variável `max_tamanho` o maior valor da colula **tamanho**\n"
      ]
    },
    {
      "cell_type": "code",
      "metadata": {
        "id": "NiqWBqLKkOZ-",
        "colab": {
          "base_uri": "https://localhost:8080/"
        },
        "outputId": "92120622-49d2-4a4f-8803-1332885235bc"
      },
      "source": [
        "max_tamanho = ((gorjeta_df['tamanho']).max())\n",
        "print(max_tamanho)"
      ],
      "execution_count": 68,
      "outputs": [
        {
          "output_type": "stream",
          "name": "stdout",
          "text": [
            "6\n"
          ]
        }
      ]
    },
    {
      "cell_type": "code",
      "metadata": {
        "id": "Xhf-TSjQkOIR"
      },
      "source": [
        ""
      ],
      "execution_count": null,
      "outputs": []
    },
    {
      "cell_type": "markdown",
      "metadata": {
        "id": "3-igfg6mkO4z"
      },
      "source": [
        "### 14) Guarde na variável `min_gorjeta` o menor valor da colula **gorjeta**"
      ]
    },
    {
      "cell_type": "code",
      "metadata": {
        "id": "0gtuiuuIkRuX",
        "colab": {
          "base_uri": "https://localhost:8080/"
        },
        "outputId": "35704980-7636-4bf8-cdbf-ed1118d7a4bd"
      },
      "source": [
        "min_gorjeta = ((gorjeta_df['gorjeta']).min())\n",
        "print(min_gorjeta)"
      ],
      "execution_count": 70,
      "outputs": [
        {
          "output_type": "stream",
          "name": "stdout",
          "text": [
            "1.0\n"
          ]
        }
      ]
    },
    {
      "cell_type": "code",
      "metadata": {
        "id": "XBq4l8jbkRms"
      },
      "source": [
        ""
      ],
      "execution_count": null,
      "outputs": []
    },
    {
      "cell_type": "markdown",
      "metadata": {
        "id": "fQj0RSSRTXiV"
      },
      "source": [
        "### 15) (Debugging) Encontre e arrume o erro do código abaixo:"
      ]
    },
    {
      "cell_type": "code",
      "metadata": {
        "colab": {
          "base_uri": "https://localhost:8080/"
        },
        "id": "E2W8KxAYTw7H",
        "outputId": "bb93d17f-a72e-4486-f3e0-0f7849764c34"
      },
      "source": [
        "idades = {\n",
        "    'Michael Scott': 43,\n",
        "    'Pam Beesly': 24,\n",
        "    'Jim Halpert': 25\n",
        "}\n",
        "\n",
        "michael = {idades[\"Michael Scott\"]}\n",
        "print(michael)"
      ],
      "execution_count": 75,
      "outputs": [
        {
          "output_type": "stream",
          "name": "stdout",
          "text": [
            "{43}\n"
          ]
        }
      ]
    },
    {
      "cell_type": "code",
      "metadata": {
        "id": "xVxyp5mhUXV3"
      },
      "source": [
        ""
      ],
      "execution_count": null,
      "outputs": []
    }
  ]
}