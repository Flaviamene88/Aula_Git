{
  "nbformat": 4,
  "nbformat_minor": 0,
  "metadata": {
    "colab": {
      "name": "Desafio pré-DSC.ipynb - Flavia de Jesus Menezes de Paula",
      "provenance": [],
      "collapsed_sections": [],
      "include_colab_link": true
    },
    "kernelspec": {
      "name": "python3",
      "display_name": "Python 3"
    },
    "language_info": {
      "name": "python"
    }
  },
  "cells": [
    {
      "cell_type": "markdown",
      "metadata": {
        "id": "view-in-github",
        "colab_type": "text"
      },
      "source": [
        "<a href=\"https://colab.research.google.com/github/Flaviamene88/Aula_Git/blob/main/Desafio_pr%C3%A9_DSC_ipynb_Flavia_de_Jesus_Menezes_de_Paula.ipynb\" target=\"_parent\"><img src=\"https://colab.research.google.com/assets/colab-badge.svg\" alt=\"Open In Colab\"/></a>"
      ]
    },
    {
      "cell_type": "markdown",
      "metadata": {
        "id": "IOcNyA9zDLHA"
      },
      "source": [
        "# Desafio Mini-curso Python\n",
        "\n",
        "Olá! Que bom que você veio!<br>\n",
        "**INSTRUÇÕES**"
      ]
    },
    {
      "cell_type": "markdown",
      "metadata": {
        "id": "dLD5TIJ__Yk7"
      },
      "source": [
        "\n",
        "### 1) Considere que a aresta deste cubo tem 8cm. Calcule o volume total dessa peça. Guarde o resultado na variável `cubo`.\n",
        "\n",
        "![image](https://upload.wikimedia.org/wikipedia/commons/thumb/7/78/Hexahedron.jpg/280px-Hexahedron.jpg)\n",
        "\n",
        "\n",
        "Dica: Volume de um cubo é sua aresta elevada a terceira potência."
      ]
    },
    {
      "cell_type": "code",
      "metadata": {
        "id": "81gUfCDu7Dyi",
        "colab": {
          "base_uri": "https://localhost:8080/"
        },
        "outputId": "a5b1ea69-9ae0-4a16-a7ec-dbfc9434fc5e"
      },
      "source": [
        "cubo = 8**3\n",
        "print(cubo)"
      ],
      "execution_count": null,
      "outputs": [
        {
          "output_type": "stream",
          "name": "stdout",
          "text": [
            "512\n"
          ]
        }
      ]
    },
    {
      "cell_type": "code",
      "metadata": {
        "id": "FyuFjeBj7FWt"
      },
      "source": [
        ""
      ],
      "execution_count": null,
      "outputs": []
    },
    {
      "cell_type": "markdown",
      "metadata": {
        "id": "7O42PL9xBiol"
      },
      "source": [
        "## Números primos\n",
        "Os Números Primos são números naturais maiores do que 1 que possuem somente dois divisores, ou seja, são divisíveis por 1 e por ele mesmo.\n",
        "\n",
        "**Rode a célula contento a lista de `numeros_primos` antes de continuar**\n",
        "\n",
        "### Faça os exercícios de **2** a **5** seguintes operações com a lista `numeros_primos`"
      ]
    },
    {
      "cell_type": "code",
      "metadata": {
        "id": "UOGds40b7LOV"
      },
      "source": [
        "#Rode essa célula\n",
        "numeros_primos = [2, 3, 5, 7, 11, 13, 17, 19, 23, 29, 31, 37, 41, 43, 47, 53, 59, 61, 67, 71, 73, 79, 83, 89, 97, 101, 103, 107, 109, 113, 127, 131, 137, 139, 149, 151, 157, 163, 167, 173, 179, 181, 191, 193, 197, 199, 211, 223, 227, 229, 233, 239, 241, 251, 257, 263, 269, 271, 277, 281, 283, 293, 307, 311, 313, 317, 331, 337, 347, 349, 353, 359, 367, 373, 379, 383, 389, 397, 401, 409, 419, 421, 431, 433, 439, 443, 449, 457, 461, 463, 467, 479, 487, 491, 499, 503, 509, 521, 523, 541, 547, 557, 563, 569, 571, 577, 587, 593, 599, 601, 607, 613, 617, 619, 631, 641, 643, 647, 653, 659, 661, 673, 677, 683, 691, 701, 709, 719, 727, 733, 739, 743, 751, 757, 761, 769, 773, 787, 797, 809, 811, 821, 823, 827, 829, 839, 853, 857, 859, 863, 877, 881, 883, 887, 907, 911, 919, 929, 937, 941, 947, 953, 967, 971, 977, 983, 991, 997]"
      ],
      "execution_count": null,
      "outputs": []
    },
    {
      "cell_type": "markdown",
      "metadata": {
        "id": "xBl_sfdNhwrZ"
      },
      "source": [
        "### 2) Guarde na variável `quinto_elemento` o quinto elemento da lista `numeros_primos`"
      ]
    },
    {
      "cell_type": "code",
      "metadata": {
        "id": "MMLCzGEwCdhG",
        "colab": {
          "base_uri": "https://localhost:8080/"
        },
        "outputId": "5de95314-55ca-4521-a9f1-c21f6b4cc4fb"
      },
      "source": [
        "quinto_elemento = numeros_primos[5]\n",
        "print(quinto_elemento)\n"
      ],
      "execution_count": null,
      "outputs": [
        {
          "output_type": "stream",
          "name": "stdout",
          "text": [
            "13\n"
          ]
        }
      ]
    },
    {
      "cell_type": "code",
      "metadata": {
        "id": "5TtZ9gDoFiJA"
      },
      "source": [
        ""
      ],
      "execution_count": null,
      "outputs": []
    },
    {
      "cell_type": "markdown",
      "metadata": {
        "id": "burC7-LpiBgV"
      },
      "source": [
        "### 3) Guarde na variável `10_primos` uma lista com os 10 primeiros numeros primos da lista `numeros_primos`"
      ]
    },
    {
      "cell_type": "code",
      "metadata": {
        "id": "OSuC_9MviGk9",
        "colab": {
          "base_uri": "https://localhost:8080/"
        },
        "outputId": "9ad9a722-6ae8-43dc-8081-6afce6e221cd"
      },
      "source": [
        "numeros_primos[:10]\n",
        "primos_10 = numeros_primos[:10]\n",
        "print(primos_10)\n",
        "\n"
      ],
      "execution_count": null,
      "outputs": [
        {
          "output_type": "stream",
          "name": "stdout",
          "text": [
            "[2, 3, 5, 7, 11, 13, 17, 19, 23, 29]\n"
          ]
        }
      ]
    },
    {
      "cell_type": "code",
      "metadata": {
        "id": "f02XoEz-iGVI"
      },
      "source": [
        ""
      ],
      "execution_count": null,
      "outputs": []
    },
    {
      "cell_type": "markdown",
      "metadata": {
        "id": "aaGOemOliHmP"
      },
      "source": [
        "### 4) Guarde na variável `soma_primos` a soma total da lista `numeros_primos`"
      ]
    },
    {
      "cell_type": "code",
      "metadata": {
        "id": "RuoDemLQiUBF",
        "colab": {
          "base_uri": "https://localhost:8080/"
        },
        "outputId": "53385316-1593-49da-8854-a43c3c80235d"
      },
      "source": [
        "soma_primos = sum(numeros_primos)\n",
        "print(soma_primos)"
      ],
      "execution_count": null,
      "outputs": [
        {
          "output_type": "stream",
          "name": "stdout",
          "text": [
            "76127\n"
          ]
        }
      ]
    },
    {
      "cell_type": "code",
      "metadata": {
        "id": "HpIslXZIiT3m"
      },
      "source": [
        ""
      ],
      "execution_count": null,
      "outputs": []
    },
    {
      "cell_type": "markdown",
      "metadata": {
        "id": "ydb57E7kiU7d"
      },
      "source": [
        "### 5) Guarde na variável `primos_dobro` uma nova lista que seja a lista `numeros_primos` com seus elementos multiplicados por 2 (Dica: utilize `list comprehension`)"
      ]
    },
    {
      "cell_type": "code",
      "metadata": {
        "id": "yrVh_lSDidlX",
        "colab": {
          "base_uri": "https://localhost:8080/"
        },
        "outputId": "8c9a2a1e-6815-4719-d8e9-a9d81c62283f"
      },
      "source": [
        "primos_dobro = [variavel for variavel in numeros_primos ]\n",
        "primos_dobro = [v * 2 for v in numeros_primos]\n",
        "print(primos_dobro)"
      ],
      "execution_count": null,
      "outputs": [
        {
          "output_type": "stream",
          "name": "stdout",
          "text": [
            "[4, 6, 10, 14, 22, 26, 34, 38, 46, 58, 62, 74, 82, 86, 94, 106, 118, 122, 134, 142, 146, 158, 166, 178, 194, 202, 206, 214, 218, 226, 254, 262, 274, 278, 298, 302, 314, 326, 334, 346, 358, 362, 382, 386, 394, 398, 422, 446, 454, 458, 466, 478, 482, 502, 514, 526, 538, 542, 554, 562, 566, 586, 614, 622, 626, 634, 662, 674, 694, 698, 706, 718, 734, 746, 758, 766, 778, 794, 802, 818, 838, 842, 862, 866, 878, 886, 898, 914, 922, 926, 934, 958, 974, 982, 998, 1006, 1018, 1042, 1046, 1082, 1094, 1114, 1126, 1138, 1142, 1154, 1174, 1186, 1198, 1202, 1214, 1226, 1234, 1238, 1262, 1282, 1286, 1294, 1306, 1318, 1322, 1346, 1354, 1366, 1382, 1402, 1418, 1438, 1454, 1466, 1478, 1486, 1502, 1514, 1522, 1538, 1546, 1574, 1594, 1618, 1622, 1642, 1646, 1654, 1658, 1678, 1706, 1714, 1718, 1726, 1754, 1762, 1766, 1774, 1814, 1822, 1838, 1858, 1874, 1882, 1894, 1906, 1934, 1942, 1954, 1966, 1982, 1994]\n"
          ]
        }
      ]
    },
    {
      "cell_type": "code",
      "metadata": {
        "id": "QH8YXh1kidfT"
      },
      "source": [
        ""
      ],
      "execution_count": null,
      "outputs": []
    },
    {
      "cell_type": "markdown",
      "metadata": {
        "id": "FE5nHllAGpH-"
      },
      "source": [
        "### Dicionários\n",
        "\n",
        "A **Escala de Scoville** é usda para medir o grau de ardência das pimentas. Preparamos um dicionário com o nome da pimenta e sua respectiva ardência em unidades Scoville.\n",
        "\n",
        "**Rode a célula contento o dicionário de `pimentas` antes de continuar**\n",
        "\n",
        "### Faça os exercícios de **6** e **7** seguintes operações com o dicionário `pimentas`"
      ]
    },
    {
      "cell_type": "code",
      "metadata": {
        "id": "MkLSgv9bG-0z"
      },
      "source": [
        "#Rode essa célula\n",
        "pimentas = {\n",
        "    'Pimentão': 0,\n",
        "    'Pepperoncini': 300,\n",
        "    'Molho Tabasco Jalapenho': 700,\n",
        "    'Pimenta Anaheim': 750\t,\n",
        "    'Pimenta Poblano': 1250,\n",
        "    'Pimenta Rocotillo': 2000,\n",
        "    'Molho Tabasco': 3750,\n",
        "    'Pimenta Jalapeño': 5250,\n",
        "    'Wax Pepper': 7500,\n",
        "    'Molho Tabasco Habanero': 7500,\n",
        "    'Pimenta Dedo de Moça': 10000,\n",
        "    'Pimenta Serrano': 16500,\n",
        "    'Pimenta Malagueta': 75000,\n",
        "    'Jamaican Hot Pepper': 150000,\n",
        "    'Habanero Chili': 225000,\n",
        "    'Pimenta de Chili Scotch Bonnet': 225000,\n",
        "    'Habanero Chili Red Savina': 463500,\n",
        "    'Dorset Naga': 923000,\n",
        "    'Pimenta Naga Bhut Jolokia': 927500,\n",
        "    'Pimenta Infinity Chilli': 1000000,\n",
        "    'Pimenta Naga Viper': 1300000,\n",
        "    'Pimenta Trinidad Scorpion Butch T': 1604615,\n",
        "    'Vicnic-1313': 1820000,\n",
        "    'Carolina Reaper': 1884650\n",
        "}"
      ],
      "execution_count": null,
      "outputs": []
    },
    {
      "cell_type": "markdown",
      "metadata": {
        "id": "oqRxRy-yiqGD"
      },
      "source": [
        "### 6) Guarde na variável `quente` o valor de ardência da pimenta `Carolina Reaper`"
      ]
    },
    {
      "cell_type": "code",
      "metadata": {
        "id": "9nmomkoOJ8WA",
        "colab": {
          "base_uri": "https://localhost:8080/"
        },
        "outputId": "d26926b8-a6fb-41b2-fd03-1e4ec77fede5"
      },
      "source": [
        "quente = pimentas['Carolina Reaper']\n",
        "print(quente)"
      ],
      "execution_count": null,
      "outputs": [
        {
          "output_type": "stream",
          "name": "stdout",
          "text": [
            "1884650\n"
          ]
        }
      ]
    },
    {
      "cell_type": "code",
      "metadata": {
        "id": "ScBaySNiMQCu"
      },
      "source": [
        ""
      ],
      "execution_count": null,
      "outputs": []
    },
    {
      "cell_type": "markdown",
      "metadata": {
        "id": "JNVzzAHnjHIN"
      },
      "source": [
        "### 7) Insira no dicionário `pimentas` este novo par: `'Pimenta Caiena': 40000`"
      ]
    },
    {
      "cell_type": "code",
      "metadata": {
        "id": "68YWNIS9jdue",
        "colab": {
          "base_uri": "https://localhost:8080/"
        },
        "outputId": "9d3ad5e1-80b9-48aa-dab3-60ff638cabd9"
      },
      "source": [
        "pimentas['Caiena'] = 40000\n",
        "print(pimentas)"
      ],
      "execution_count": null,
      "outputs": [
        {
          "output_type": "stream",
          "name": "stdout",
          "text": [
            "{'Pimentão': 0, 'Pepperoncini': 300, 'Molho Tabasco Jalapenho': 700, 'Pimenta Anaheim': 750, 'Pimenta Poblano': 1250, 'Pimenta Rocotillo': 2000, 'Molho Tabasco': 3750, 'Pimenta Jalapeño': 5250, 'Wax Pepper': 7500, 'Molho Tabasco Habanero': 7500, 'Pimenta Dedo de Moça': 10000, 'Pimenta Serrano': 16500, 'Pimenta Malagueta': 75000, 'Jamaican Hot Pepper': 150000, 'Habanero Chili': 225000, 'Pimenta de Chili Scotch Bonnet': 225000, 'Habanero Chili Red Savina': 463500, 'Dorset Naga': 923000, 'Pimenta Naga Bhut Jolokia': 927500, 'Pimenta Infinity Chilli': 1000000, 'Pimenta Naga Viper': 1300000, 'Pimenta Trinidad Scorpion Butch T': 1604615, 'Vicnic-1313': 1820000, 'Carolina Reaper': 1884650, 'Caiena': 40000}\n"
          ]
        }
      ]
    },
    {
      "cell_type": "markdown",
      "metadata": {
        "id": "99zhKnbMMQam"
      },
      "source": [
        "## Funções e condicionais\n",
        "\n",
        "O **IMC** (Indice de Massa Corporal) é um critério da Organização Mundial de Saúde para dar uma indicação sobre a condição de peso de uma pessoa adulta. A fórmula é IMC = peso / ( altura )²\n",
        "\n",
        "### 8) Construa uma função de nome `calcular_imc` que receba o peso e a altura de um adulto e mostre sua condição de acordo com a tabela abaixo.\n",
        "\n",
        "| IMC em adultos  | Condição       |\n",
        "|-----------------|----------------|\n",
        "| Abaixo de 18,5  | Abaixo do peso |\n",
        "| Entre 18,5 e 25 | Peso normal    |\n",
        "| Entre 25 e 30   | Acima do peso  |\n",
        "| Acima de 30     | obeso          |"
      ]
    },
    {
      "cell_type": "code",
      "metadata": {
        "id": "dXk93hfwjdoZ"
      },
      "source": [
        "def calcular_imc():\n",
        "  altura = float(input(\"Digite sua altura em metros: \"))\n",
        "  peso = float(input(\"Digite seu peso em Kg: \"))\n",
        "  calcular_imc = (peso/(altura**2))\n",
        "  if calcular_imc < 18.5:\n",
        "    print('Você está abaixo do peso')\n",
        "  elif 18.5<= calcular_imc < 25: \n",
        "    print('Você está com peso normal')\n",
        "  elif 25 <= calcular_imc < 30:\n",
        "    print(\"Você está acima do peso\") \n",
        "  elif calcular_imc > 31:\n",
        "    print(\"Você está obeso\") \n",
        "\n",
        "  \n",
        "\n",
        " \n",
        "\n",
        "\n"
      ],
      "execution_count": 20,
      "outputs": []
    },
    {
      "cell_type": "markdown",
      "metadata": {
        "id": "UOg-3G-LNrnL"
      },
      "source": [
        "## Com base na sua função faça os seguintes exercícios:\n",
        "### 9) Guarde na variável `cond1` o IMC de uma pessoa que tenha 1,72 de altura e 80Kg de peso\n"
      ]
    },
    {
      "cell_type": "code",
      "metadata": {
        "id": "yeJ2_aTQOjYg",
        "colab": {
          "base_uri": "https://localhost:8080/"
        },
        "outputId": "fabd2eb0-d4a9-4cc9-e9b7-61e3717d32a9"
      },
      "source": [
        "cond1 = calcular_imc\n",
        "calcular_imc()\n",
        "print (cond1)\n"
      ],
      "execution_count": 24,
      "outputs": [
        {
          "output_type": "stream",
          "name": "stdout",
          "text": [
            "Digite sua altura em metros: 1.72\n",
            "Digite seu peso em Kg: 80\n",
            "Você está acima do peso\n",
            "<function calcular_imc at 0x7f7bb5cf1050>\n"
          ]
        }
      ]
    },
    {
      "cell_type": "code",
      "metadata": {
        "id": "Pl4Hg7ujO7NN"
      },
      "source": [
        ""
      ],
      "execution_count": null,
      "outputs": []
    },
    {
      "cell_type": "markdown",
      "metadata": {
        "id": "Cfhepz8-joC9"
      },
      "source": [
        "### 10) Guarde na variável `cond2` o IMC de uma pessoa que tenha 2,1 de altura e 70Kg de peso\n"
      ]
    },
    {
      "cell_type": "code",
      "metadata": {
        "id": "peYbd5wTjsxm",
        "colab": {
          "base_uri": "https://localhost:8080/"
        },
        "outputId": "f044b0d0-d1d3-465b-9dc9-d81a97f4f61e"
      },
      "source": [
        "cond2 = calcular_imc\n",
        "calcular_imc()\n",
        "print(cond2)"
      ],
      "execution_count": 25,
      "outputs": [
        {
          "output_type": "stream",
          "name": "stdout",
          "text": [
            "Digite sua altura em metros: 2.1\n",
            "Digite seu peso em Kg: 70\n",
            "Você está abaixo do peso\n",
            "<function calcular_imc at 0x7f7bb5cf1050>\n"
          ]
        }
      ]
    },
    {
      "cell_type": "code",
      "metadata": {
        "id": "fahrcDjTjsqw"
      },
      "source": [
        ""
      ],
      "execution_count": null,
      "outputs": []
    },
    {
      "cell_type": "markdown",
      "metadata": {
        "id": "6Si1vAiMjtQA"
      },
      "source": [
        "### 11) Guarde na variável `cond3` o IMC de uma pessoa que tenha 1,55 de altura e 80Kg de peso"
      ]
    },
    {
      "cell_type": "code",
      "metadata": {
        "id": "8FsO1eWCjwFk",
        "colab": {
          "base_uri": "https://localhost:8080/"
        },
        "outputId": "b0c86b67-220c-4d68-c5d4-dcabb2d2873b"
      },
      "source": [
        "cond3 = calcular_imc\n",
        "calcular_imc()\n",
        "print(cond3)"
      ],
      "execution_count": 26,
      "outputs": [
        {
          "output_type": "stream",
          "name": "stdout",
          "text": [
            "Digite sua altura em metros: 1.55\n",
            "Digite seu peso em Kg: 80\n",
            "Você está obeso\n",
            "<function calcular_imc at 0x7f7bb5cf1050>\n"
          ]
        }
      ]
    },
    {
      "cell_type": "code",
      "metadata": {
        "id": "4DOsi3gtjv-v"
      },
      "source": [
        ""
      ],
      "execution_count": null,
      "outputs": []
    },
    {
      "cell_type": "markdown",
      "metadata": {
        "id": "EyNPc1qmRE6G"
      },
      "source": [
        "### Pandas\n",
        "#### Faça o download do `.csv` abaixo e faça a leitura dele no `pandas` guarde-a na variável `gorjetas`\n",
        "\n",
        "[Arquivo para download](https://drive.google.com/file/d/18f43p3FPmzRqN-I5S03U5pn6wdburrZQ/view?usp=sharing)\n",
        "\n",
        "Dica: Não se esqueça de importar a biblioteca pandas"
      ]
    },
    {
      "cell_type": "markdown",
      "metadata": {
        "id": "joE44hAnR-ij"
      },
      "source": [
        "### Faça os exercícios de **12** a **14** com o DataDrame `gorjetas`\n",
        "\n",
        "### 12) Guarde na variável `media_contas` o valor da média da colula **total**"
      ]
    },
    {
      "cell_type": "code",
      "metadata": {
        "id": "GDX38jIGSQAi",
        "colab": {
          "base_uri": "https://localhost:8080/"
        },
        "outputId": "88c1252c-6c03-448c-9091-8df5cda96184"
      },
      "source": [
        "import pandas\n",
        "gorjeta_df = pd.read_csv('./gorjeta.csv')\n",
        "print(gorjeta_df)\n",
        "media_contas = ((gorjeta_df['total']).mean())\n",
        "print(media_contas)\n",
        "\n",
        "\n",
        "\n"
      ],
      "execution_count": null,
      "outputs": [
        {
          "output_type": "stream",
          "name": "stdout",
          "text": [
            "     total  gorjeta fumante  tamanho\n",
            "0    16.99     1.01      No        2\n",
            "1    10.34     1.66      No        3\n",
            "2    21.01     3.50      No        3\n",
            "3    23.68     3.31      No        2\n",
            "4    24.59     3.61      No        4\n",
            "..     ...      ...     ...      ...\n",
            "239  29.03     5.92      No        3\n",
            "240  27.18     2.00     Yes        2\n",
            "241  22.67     2.00     Yes        2\n",
            "242  17.82     1.75      No        2\n",
            "243  18.78     3.00      No        2\n",
            "\n",
            "[244 rows x 4 columns]\n",
            "19.785942622950824\n"
          ]
        }
      ]
    },
    {
      "cell_type": "code",
      "metadata": {
        "id": "P-RPwBIIS7BA"
      },
      "source": [
        ""
      ],
      "execution_count": null,
      "outputs": []
    },
    {
      "cell_type": "markdown",
      "metadata": {
        "id": "ZNW4kN0WkLSh"
      },
      "source": [
        "### 13) Guarde na variável `max_tamanho` o maior valor da colula **tamanho**\n"
      ]
    },
    {
      "cell_type": "code",
      "metadata": {
        "id": "NiqWBqLKkOZ-",
        "colab": {
          "base_uri": "https://localhost:8080/"
        },
        "outputId": "92120622-49d2-4a4f-8803-1332885235bc"
      },
      "source": [
        "max_tamanho = ((gorjeta_df['tamanho']).max())\n",
        "print(max_tamanho)"
      ],
      "execution_count": null,
      "outputs": [
        {
          "output_type": "stream",
          "name": "stdout",
          "text": [
            "6\n"
          ]
        }
      ]
    },
    {
      "cell_type": "code",
      "metadata": {
        "id": "Xhf-TSjQkOIR"
      },
      "source": [
        ""
      ],
      "execution_count": null,
      "outputs": []
    },
    {
      "cell_type": "markdown",
      "metadata": {
        "id": "3-igfg6mkO4z"
      },
      "source": [
        "### 14) Guarde na variável `min_gorjeta` o menor valor da colula **gorjeta**"
      ]
    },
    {
      "cell_type": "code",
      "metadata": {
        "id": "0gtuiuuIkRuX",
        "colab": {
          "base_uri": "https://localhost:8080/"
        },
        "outputId": "35704980-7636-4bf8-cdbf-ed1118d7a4bd"
      },
      "source": [
        "min_gorjeta = ((gorjeta_df['gorjeta']).min())\n",
        "print(min_gorjeta)"
      ],
      "execution_count": null,
      "outputs": [
        {
          "output_type": "stream",
          "name": "stdout",
          "text": [
            "1.0\n"
          ]
        }
      ]
    },
    {
      "cell_type": "code",
      "metadata": {
        "id": "XBq4l8jbkRms"
      },
      "source": [
        ""
      ],
      "execution_count": null,
      "outputs": []
    },
    {
      "cell_type": "markdown",
      "metadata": {
        "id": "fQj0RSSRTXiV"
      },
      "source": [
        "### 15) (Debugging) Encontre e arrume o erro do código abaixo:"
      ]
    },
    {
      "cell_type": "code",
      "metadata": {
        "colab": {
          "base_uri": "https://localhost:8080/"
        },
        "id": "E2W8KxAYTw7H",
        "outputId": "bb93d17f-a72e-4486-f3e0-0f7849764c34"
      },
      "source": [
        "idades = {\n",
        "    'Michael Scott': 43,\n",
        "    'Pam Beesly': 24,\n",
        "    'Jim Halpert': 25\n",
        "}\n",
        "\n",
        "michael = {idades[\"Michael Scott\"]}\n",
        "print(michael)"
      ],
      "execution_count": null,
      "outputs": [
        {
          "output_type": "stream",
          "name": "stdout",
          "text": [
            "{43}\n"
          ]
        }
      ]
    },
    {
      "cell_type": "code",
      "metadata": {
        "id": "xVxyp5mhUXV3"
      },
      "source": [
        ""
      ],
      "execution_count": null,
      "outputs": []
    }
  ]
}